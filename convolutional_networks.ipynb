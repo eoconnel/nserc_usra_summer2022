{
 "cells": [
  {
   "cell_type": "code",
   "execution_count": 1,
   "id": "3a72943b",
   "metadata": {},
   "outputs": [],
   "source": [
    "import numpy as np\n",
    "import pandas as pd\n",
    "import matplotlib.pyplot as plt\n",
    "import src.network as network\n",
    "import src.network_utils as net_utils"
   ]
  },
  {
   "cell_type": "markdown",
   "id": "2cc7436a",
   "metadata": {},
   "source": [
    "# Convolutional Neural Networks\n",
    "\n",
    "Convolutional neural networks are networks which include one or more convolutional layers in their architecture. They are especially equipped for handling more complex problems such as image recognition due to their translational invariance. The convolutional layer is implemented as shown below and actually uses the cross-correlation operation for forward propogation and the convolution operation for backpropogation.  \n",
    "\n",
    "The `Convolutional` layer must be initialized with the shape of the data in the input layer, the size of the kernal, and the number of kernels. Additional layers such as the `Reshape` and `Rescale` layers were also added to help the convolutional network architecture. "
   ]
  },
  {
   "cell_type": "code",
   "execution_count": null,
   "id": "4af7c151",
   "metadata": {},
   "outputs": [],
   "source": [
    "class Convolutional(Layer):\n",
    "    def __init__(self, input_shape, kernel_size, num_kernels):\n",
    "        self.num_inputs = input_shape[0]\n",
    "        self.num_kernels = num_kernels\n",
    "        self.input_shape = input_shape\n",
    "        self.output_shape = (num_kernels, input_shape[1] - kernel_size + 1, input_shape[2] - kernel_size + 1)\n",
    "        self.kernel_shape = (num_kernels, input_shape[0], kernel_size, kernel_size)\n",
    "        self.kernels = np.random.randn(*self.kernel_shape)\n",
    "        self.biases = np.random.randn(*self.output_shape)\n",
    "        self.nabla_k = 0\n",
    "        self.nabla_b = 0\n",
    "        \n",
    "    def forward(self, x):\n",
    "        self.input = x\n",
    "        y = np.zeros(self.output_shape)\n",
    "        for i in range(self.num_kernels):\n",
    "            for j in range(self.num_inputs):\n",
    "                y[i] += signal.correlate2d(self.input[j], self.kernels[i][j], mode='valid')\n",
    "        return y + self.biases \n",
    "    \n",
    "    def backward(self, nabla_out):\n",
    "        nabla_k = np.zeros(self.kernel_shape)\n",
    "        nabla_x = np.zeros(self.input_shape)\n",
    "        for i in range(self.kernel_shape[0]):\n",
    "            for j in range(self.input_shape[0]):\n",
    "                nabla_k[i][j] = signal.correlate2d(self.input[j], nabla_out[i], mode='valid')\n",
    "                nabla_x[j] += signal.convolve2d(nabla_out[i], self.kernels[i][j], mode='full')\n",
    "        \n",
    "        self.nabla_k += nabla_k\n",
    "        self.nabla_b += nabla_out\n",
    "        return nabla_x\n",
    "\n",
    "    def update_params(self, eta, n):\n",
    "        self.kernels -= eta * self.nabla_k / n\n",
    "        self.biases -= eta * self.nabla_b / n\n",
    "        self.nabla_k = 0\n",
    "        self.nabla_b = 0"
   ]
  },
  {
   "cell_type": "markdown",
   "id": "77019ba5",
   "metadata": {},
   "source": [
    "## MNIST Dataset\n",
    "\n",
    "The MNIST dataset is a popular benchmark dataset consisting of labelled images of handwritten digits from 0 to 9. Note that a CSV copy of the dataset was used but is not included in the github repo. The dataset can be downloaded here: https://www.kaggle.com/datasets/oddrationale/mnist-in-csv.   \n",
    "\n",
    "The following network was used to classify the images based on their corresponding digits. The network architecture consists of a convolutional layer with 3 5x5 kernels followed by a fully connected linear layer with a sigmoid activation function. The network was able to correctly classify over 97% of the handwritten digits."
   ]
  },
  {
   "cell_type": "code",
   "execution_count": 2,
   "id": "2c7fd15b",
   "metadata": {},
   "outputs": [],
   "source": [
    "def load_data(filename, binary=False):\n",
    "    \n",
    "    data = pd.read_csv(filename)\n",
    "    if binary:\n",
    "        data = data.loc[(data['label'] == 0) | (data['label'] == 1)]\n",
    "    labels = np.array(data['label'])\n",
    "\n",
    "    images = data.drop(columns=['label'])\n",
    "    images = np.array(images).reshape((labels.size, 1, 28, 28)) / 255\n",
    "\n",
    "    labels = np.array([1 * (np.arange(10).reshape(10,1) == y) for y in labels])\n",
    "\n",
    "    return images, labels"
   ]
  },
  {
   "cell_type": "code",
   "execution_count": 3,
   "id": "8c15b6b5",
   "metadata": {},
   "outputs": [],
   "source": [
    "training_images, training_labels = load_data('data/mnist_train.csv')\n",
    "test_images, test_labels = load_data('data/mnist_test.csv')"
   ]
  },
  {
   "cell_type": "code",
   "execution_count": 10,
   "id": "0a8ffd1e",
   "metadata": {},
   "outputs": [
    {
     "name": "stdout",
     "output_type": "stream",
     "text": [
      "Accuracy in epoch 1 / 15: 92.05%\n",
      "Accuracy in epoch 4 / 15: 94.83%\n",
      "Accuracy in epoch 7 / 15: 96.34%\n",
      "Accuracy in epoch 10 / 15: 96.74%\n",
      "Accuracy in epoch 13 / 15: 96.95%\n",
      "Accuracy in epoch 15 / 15: 97.04%\n"
     ]
    }
   ],
   "source": [
    "mini_batch_size = 16\n",
    "eta = 0.2\n",
    "epochs = 15\n",
    "error_disp = 3\n",
    "\n",
    "relu_net = network.Network([network.Convolutional((1,28,28), 5, 3),\n",
    "                            network.ReLU(),\n",
    "                            network.Reshape((3, 24, 24), (3*24*24, 1)),\n",
    "                            network.Linear(3*24*24, 10),\n",
    "                            network.Sigmoid()])\n",
    "\n",
    "relu_net.train(training_images, training_labels, mini_batch_size, eta, epochs, error_disp,\n",
    "          evaluation = 'percentage_onehot', test_data = test_images, test_labels = test_labels)"
   ]
  },
  {
   "cell_type": "code",
   "execution_count": 12,
   "id": "07d3d60b",
   "metadata": {},
   "outputs": [],
   "source": [
    "net_utils.save_network(relu_net, 'out/convolutional_networks/relu_net.obj')"
   ]
  },
  {
   "cell_type": "code",
   "execution_count": 4,
   "id": "c4ba956e",
   "metadata": {},
   "outputs": [],
   "source": [
    "relu_net = net_utils.read_network('out/convolutional_networks/relu_net.obj')"
   ]
  },
  {
   "cell_type": "markdown",
   "id": "0b21a004",
   "metadata": {},
   "source": [
    "## Visualizing Network\n",
    "\n",
    "Some sample methods were written to provide a visualization of the network's functionality as well as its kernels and feature maps. Some examples are demonstrated below."
   ]
  },
  {
   "cell_type": "code",
   "execution_count": 14,
   "id": "667938af",
   "metadata": {},
   "outputs": [],
   "source": [
    "def sample_prediction(net, images, labels):\n",
    "    index = np.random.randint(0, images.shape[0])\n",
    "    test_image = images[index]\n",
    "    test_label = labels[index]\n",
    "    actual = np.argmax(test_label)\n",
    "    predicted = np.argmax(relu_net.forward_prop(test_image))\n",
    "    \n",
    "    print(f'Actual label: {actual}\\nNetwork prediction: {predicted}')\n",
    "    plt.figure(figsize=(6,6))\n",
    "    plt.imshow(test_image[0], cmap='gray_r')\n",
    "    plt.show()\n",
    "    \n",
    "    \n",
    "def display_kernels(net, layer):\n",
    "    conv_layer = net.layers[layer]\n",
    "    \n",
    "    kernels = 0\n",
    "    for i in range(conv_layer.num_kernels):\n",
    "        for j in range(conv_layer.num_inputs):\n",
    "            print(f'Kernel {i}, layer {j}:')\n",
    "            kernel = conv_layer.kernels[i][j]\n",
    "            plt.imshow(kernel, cmap='gray_r')\n",
    "            plt.show()\n",
    "            \n",
    "            \n",
    "def get_kernel_nets(net, layer):\n",
    "    conv_layer = net.layers[layer]\n",
    "    \n",
    "    nets = []\n",
    "    for i in range(conv_layer.num_kernels):\n",
    "        input_shape = conv_layer.input_shape\n",
    "        kernel_size = conv_layer.kernel_shape[2]\n",
    "        nets.append(network.Network([network.Convolutional(input_shape, kernel_size, 1),\n",
    "                                     network.Sigmoid()]))\n",
    "        nets[i].kernels = conv_layer.kernels[i].reshape(1, input_shape[0], kernel_size, kernel_size)\n",
    "        nets[i].biases = conv_layer.biases[i].reshape(1, input_shape[1]-kernel_size+1, \n",
    "                                                      input_shape[2]-kernel_size+1)\n",
    "        \n",
    "    return nets\n",
    "\n",
    "\n",
    "def visualize_kernel_nets(net, layer, images):\n",
    "    index = np.random.randint(0, images.shape[0])\n",
    "    test_image = images[index]\n",
    "    nets = get_kernel_nets(net, layer)\n",
    "    \n",
    "    print('Original Image')\n",
    "    plt.imshow(test_image[0], cmap='gray_r')\n",
    "    plt.show()\n",
    "    print('Feature Maps')\n",
    "    \n",
    "    for net in nets:\n",
    "        out = net.forward_prop(test_image)[0]\n",
    "        plt.imshow(out, cmap='gray_r')\n",
    "        plt.show()"
   ]
  },
  {
   "cell_type": "code",
   "execution_count": 9,
   "id": "d7da789d",
   "metadata": {},
   "outputs": [
    {
     "name": "stdout",
     "output_type": "stream",
     "text": [
      "Actual label: 5\n",
      "Network prediction: 5\n"
     ]
    },
    {
     "data": {
      "image/png": "[encoded data removed]",
      "text/plain": [
       "<Figure size 432x432 with 1 Axes>"
      ]
     },
     "metadata": {
      "needs_background": "light"
     },
     "output_type": "display_data"
    }
   ],
   "source": [
    "sample_prediction(relu_net, test_images, test_labels)"
   ]
  },
  {
   "cell_type": "code",
   "execution_count": 10,
   "id": "f676976c",
   "metadata": {},
   "outputs": [
    {
     "name": "stdout",
     "output_type": "stream",
     "text": [
      "Kernel 0, layer 0:\n"
     ]
    },
    {
     "data": {
      "image/png": "[encoded data removed]",
      "text/plain": [
       "<Figure size 432x288 with 1 Axes>"
      ]
     },
     "metadata": {
      "needs_background": "light"
     },
     "output_type": "display_data"
    },
    {
     "name": "stdout",
     "output_type": "stream",
     "text": [
      "Kernel 1, layer 0:\n"
     ]
    },
    {
     "data": {
      "image/png": "[encoded data removed]",
      "text/plain": [
       "<Figure size 432x288 with 1 Axes>"
      ]
     },
     "metadata": {
      "needs_background": "light"
     },
     "output_type": "display_data"
    },
    {
     "name": "stdout",
     "output_type": "stream",
     "text": [
      "Kernel 2, layer 0:\n"
     ]
    },
    {
     "data": {
      "image/png": "[encoded data removed]",
      "text/plain": [
       "<Figure size 432x288 with 1 Axes>"
      ]
     },
     "metadata": {
      "needs_background": "light"
     },
     "output_type": "display_data"
    }
   ],
   "source": [
    "display_kernels(relu_net, 0)"
   ]
  },
  {
   "cell_type": "code",
   "execution_count": 15,
   "id": "4914c8dd",
   "metadata": {},
   "outputs": [
    {
     "name": "stdout",
     "output_type": "stream",
     "text": [
      "Original Image\n"
     ]
    },
    {
     "data": {
      "image/png": "[encoded data removed]",
      "text/plain": [
       "<Figure size 432x288 with 1 Axes>"
      ]
     },
     "metadata": {
      "needs_background": "light"
     },
     "output_type": "display_data"
    },
    {
     "name": "stdout",
     "output_type": "stream",
     "text": [
      "Feature Maps\n"
     ]
    },
    {
     "data": {
      "image/png": "[encoded data removed]",
      "text/plain": [
       "<Figure size 432x288 with 1 Axes>"
      ]
     },
     "metadata": {
      "needs_background": "light"
     },
     "output_type": "display_data"
    },
    {
     "data": {
      "image/png": "[encoded data removed]",
      "text/plain": [
       "<Figure size 432x288 with 1 Axes>"
      ]
     },
     "metadata": {
      "needs_background": "light"
     },
     "output_type": "display_data"
    },
    {
     "data": {
      "image/png": "[encoded data removed]",
      "text/plain": [
       "<Figure size 432x288 with 1 Axes>"
      ]
     },
     "metadata": {
      "needs_background": "light"
     },
     "output_type": "display_data"
    }
   ],
   "source": [
    "visualize_kernel_nets(relu_net, 0, test_images)"
   ]
  },
  {
   "cell_type": "markdown",
   "id": "a9045b07",
   "metadata": {},
   "source": [
    "## Fully Convolutional Network\n",
    "\n",
    "One of the main objectives of this research project was to create a convolutional network that was fully convolutional. This would imply that no fully connected linear layer be used to reduce the output size of the network. The `Summation` layer shown below was constructed to be able to take an arbitrary sized $ n\\times k\\times j $ layer and convert it to an $ n\\times 1 \\times 1 $ sized layer by summing over the second and third dimensions.  \n",
    "\n",
    "The network being fully convolutional would theoretically allow it to produce similar outputs with images of varying size. To implement this, an updated convolutional layer which does not require this dimensions of the input layer would be required.  \n",
    "\n",
    "An attempted architecture for a fully convolutional network is shown below and makes use of the `Rescale` and `Summation` layers. Some additional testing and training time would be required to produce a functioning network."
   ]
  },
  {
   "cell_type": "code",
   "execution_count": null,
   "id": "18c83491",
   "metadata": {},
   "outputs": [],
   "source": [
    "class Summation(Layer):\n",
    "    def __init__(self):\n",
    "        pass\n",
    "        \n",
    "    def forward(self, x):\n",
    "        self.input = x\n",
    "        return np.sum(self.input, axis=(1,2)).reshape(self.input.shape[0], 1)\n",
    "    \n",
    "    def backward(self, nabla_out):\n",
    "        in_shape = self.input.shape\n",
    "        nabla_in = np.ones(in_shape)\n",
    "        return np.array([nabla_in[i] * nabla_out[i] for i in range(len(nabla_out))])\n",
    "    \n",
    "    def update_params(self, eta, n):\n",
    "        pass"
   ]
  },
  {
   "cell_type": "code",
   "execution_count": 18,
   "id": "76cf2f42",
   "metadata": {},
   "outputs": [
    {
     "name": "stdout",
     "output_type": "stream",
     "text": [
      "Accuracy in epoch 1 / 5: 9.82%\n",
      "Accuracy in epoch 2 / 5: 9.82%\n",
      "Accuracy in epoch 3 / 5: 9.82%\n",
      "Accuracy in epoch 4 / 5: 9.82%\n",
      "Accuracy in epoch 5 / 5: 9.82%\n"
     ]
    }
   ],
   "source": [
    "mini_batch_size = 16\n",
    "eta = 8\n",
    "epochs = 5\n",
    "error_disp = 1\n",
    "\n",
    "fcn = network.Network([network.Convolutional((1,28,28), 5, 6),\n",
    "                       network.ReLU(),\n",
    "                       network.Rescale(2),\n",
    "                       network.Convolutional((6,12,12), 5, 10),\n",
    "                       network.ReLU(),\n",
    "                       network.Rescale(2),\n",
    "                       network.Summation(),\n",
    "                       network.Sigmoid()])\n",
    "\n",
    "fcn.train(training_images, training_labels, mini_batch_size, eta, epochs, error_disp, \n",
    "          evaluation='percentage_onehot', test_data = test_images, test_labels = test_labels)"
   ]
  },
  {
   "cell_type": "code",
   "execution_count": 20,
   "id": "a721e9e3",
   "metadata": {},
   "outputs": [],
   "source": [
    "net_utils.save_network(fcn, 'out/convolutional_networks/fcn.obj')"
   ]
  },
  {
   "cell_type": "code",
   "execution_count": 21,
   "id": "753a0651",
   "metadata": {},
   "outputs": [],
   "source": [
    "fcn = net_utils.read_network('out/convolutional_networks/fcn.obj')"
   ]
  }
 ],
 "metadata": {
  "kernelspec": {
   "display_name": "Python 3 (ipykernel)",
   "language": "python",
   "name": "python3"
  },
  "language_info": {
   "codemirror_mode": {
    "name": "ipython",
    "version": 3
   },
   "file_extension": ".py",
   "mimetype": "text/x-python",
   "name": "python",
   "nbconvert_exporter": "python",
   "pygments_lexer": "ipython3",
   "version": "3.8.13"
  }
 },
 "nbformat": 4,
 "nbformat_minor": 5
}
